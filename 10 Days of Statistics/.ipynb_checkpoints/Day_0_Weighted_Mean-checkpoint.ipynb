{
 "cells": [
  {
   "cell_type": "code",
   "execution_count": 24,
   "metadata": {},
   "outputs": [
    {
     "name": "stdout",
     "output_type": "stream",
     "text": [
      "10\n",
      "10 40 30 50 20 10 40 30 50 20\n",
      "1 2 3 4 5 6 7 8 9 10\n",
      "31.1\n"
     ]
    }
   ],
   "source": [
    "num=int(input())\n",
    "numbers=input()\n",
    "numbers=list(map(int,numbers.split(' ')))\n",
    "weights=input()\n",
    "weights=list(map(int,weights.split(' ')))\n",
    "weighted_mean=0\n",
    "for i in range(num):\n",
    "    weighted_mean+=numbers[i]*weights[i]\n",
    "\n",
    "weighted_mean=round(weighted_mean/sum(weights),1)\n",
    "\n",
    "print(weighted_mean)"
   ]
  },
  {
   "cell_type": "code",
   "execution_count": null,
   "metadata": {},
   "outputs": [],
   "source": [
    "\n"
   ]
  }
 ],
 "metadata": {
  "kernelspec": {
   "display_name": "Python 3",
   "language": "python",
   "name": "python3"
  },
  "language_info": {
   "codemirror_mode": {
    "name": "ipython",
    "version": 3
   },
   "file_extension": ".py",
   "mimetype": "text/x-python",
   "name": "python",
   "nbconvert_exporter": "python",
   "pygments_lexer": "ipython3",
   "version": "3.6.3"
  }
 },
 "nbformat": 4,
 "nbformat_minor": 2
}
