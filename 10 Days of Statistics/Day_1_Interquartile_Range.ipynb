{
 "cells": [
  {
   "cell_type": "code",
   "execution_count": 22,
   "metadata": {
    "collapsed": true
   },
   "outputs": [],
   "source": [
    "def find_midpoint(numbers):\n",
    "    \n",
    "    lgth=len(numbers)\n",
    "    if(lgth%2==0):\n",
    "    #even \n",
    "        midpoint=(numbers[int((lgth-1)/2)]+numbers[int(lgth/2)])/2\n",
    "    else:\n",
    "        midpoint=numbers[int(lgth/2)]\n",
    "    return midpoint,lgth\n"
   ]
  },
  {
   "cell_type": "code",
   "execution_count": 28,
   "metadata": {},
   "outputs": [
    {
     "name": "stdout",
     "output_type": "stream",
     "text": [
      "20\n",
      "10 40 30 50 20 10 40 30 50 20 1 2 3 4 5 6 7 8 9 10\n",
      "1 2 3 4 5 6 7 8 9 10 10 40 30 50 20 10 40 30 50 20\n",
      "5.0\n"
     ]
    }
   ],
   "source": [
    "\n",
    "num=int(input())\n",
    "numbers=input()\n",
    "numbers=list(map(int,numbers.split(' ')))\n",
    "frequency=input()\n",
    "frequency=list(map(int,frequency.split(' ')))\n",
    "elemnum=0\n",
    "\n",
    "for i in frequency:\n",
    "    for j in range(i-1):\n",
    "        #there is a number exsists only add frequency -1\n",
    "        numbers.append(numbers[elemnum])\n",
    "    elemnum+=1\n",
    "numbers.sort()\n",
    "#find median in the whole list \n",
    "q2,lgth=find_midpoint(numbers)\n",
    "#find the Q1 in the first half of list\n",
    "q1,_=find_midpoint(numbers[0:int(lgth/2)])\n",
    "#find the Q1 in the second half of list\n",
    "if(lgth%2==0):\n",
    "    q3,_=find_midpoint(numbers[int(lgth/2):])\n",
    "else:\n",
    "    q3,_=find_midpoint(numbers[int(lgth/2)+1:])\n",
    "print(round(float(q3-q1),1))"
   ]
  },
  {
   "cell_type": "code",
   "execution_count": null,
   "metadata": {},
   "outputs": [],
   "source": []
  }
 ],
 "metadata": {
  "kernelspec": {
   "display_name": "Python 3",
   "language": "python",
   "name": "python3"
  },
  "language_info": {
   "codemirror_mode": {
    "name": "ipython",
    "version": 3
   },
   "file_extension": ".py",
   "mimetype": "text/x-python",
   "name": "python",
   "nbconvert_exporter": "python",
   "pygments_lexer": "ipython3",
   "version": "3.6.3"
  }
 },
 "nbformat": 4,
 "nbformat_minor": 2
}
