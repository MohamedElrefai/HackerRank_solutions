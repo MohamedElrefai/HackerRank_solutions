{
 "cells": [
  {
   "cell_type": "code",
   "execution_count": 43,
   "metadata": {},
   "outputs": [
    {
     "name": "stdout",
     "output_type": "stream",
     "text": [
      "10\n",
      "64630 11735 14216 99233 14470 4978 73429 38120 51135 67060\n",
      "43900.6\n",
      "44627.5\n",
      "4978\n"
     ]
    }
   ],
   "source": [
    "num=int(input())\n",
    "numbers=input()\n",
    "numbers=list(map(int,numbers.split(' ')))\n",
    "numbers.sort()\n",
    "lgth=len(numbers)\n",
    "#mean\n",
    "print(sum(numbers)/lgth)\n",
    "#median\n",
    "if(lgth%2==0):\n",
    "    #even \n",
    "    median=(numbers[int((lgth-1)/2)]+numbers[int(lgth/2)])/2\n",
    "else:\n",
    "    median=numbers[int(lgth/2)]\n",
    "print(median)\n",
    "\n",
    "#mode\n",
    "\n",
    "maximum=0\n",
    "mode=0\n",
    "for i in numbers:\n",
    "\n",
    "    if(numbers.count(i)>maximum):\n",
    "        maximum=numbers.count(i)\n",
    "        mode=i\n",
    "print(mode)"
   ]
  }
 ],
 "metadata": {
  "kernelspec": {
   "display_name": "Python 3",
   "language": "python",
   "name": "python3"
  },
  "language_info": {
   "codemirror_mode": {
    "name": "ipython",
    "version": 3
   },
   "file_extension": ".py",
   "mimetype": "text/x-python",
   "name": "python",
   "nbconvert_exporter": "python",
   "pygments_lexer": "ipython3",
   "version": "3.6.3"
  }
 },
 "nbformat": 4,
 "nbformat_minor": 2
}
