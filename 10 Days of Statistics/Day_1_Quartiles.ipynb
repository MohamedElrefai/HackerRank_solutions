{
 "cells": [
  {
   "cell_type": "code",
   "execution_count": 1,
   "metadata": {
    "collapsed": true
   },
   "outputs": [],
   "source": [
    "def find_midpoint(numbers):\n",
    "    \n",
    "    lgth=len(numbers)\n",
    "    if(lgth%2==0):\n",
    "    #even \n",
    "        midpoint=(numbers[int((lgth-1)/2)]+numbers[int(lgth/2)])/2\n",
    "    else:\n",
    "        midpoint=numbers[int(lgth/2)]\n",
    "    return int(midpoint),lgth"
   ]
  },
  {
   "cell_type": "code",
   "execution_count": 2,
   "metadata": {},
   "outputs": [
    {
     "name": "stdout",
     "output_type": "stream",
     "text": [
      "6\n",
      "6 12 8 10 20 16\n",
      "8\n",
      "11\n",
      "16\n",
      "\n"
     ]
    }
   ],
   "source": [
    "num=int(input())\n",
    "numbers=input()\n",
    "numbers=list(map(int,numbers.split(' ')))\n",
    "numbers.sort()\n",
    "\n",
    "#find median in the whole list \n",
    "q2,lgth=find_midpoint(numbers)\n",
    "#find the Q1 in the first half of list\n",
    "q1,_=find_midpoint(numbers[0:int(lgth/2)])\n",
    "#find the Q1 in the second half of list\n",
    "if(lgth%2==0):\n",
    "    q3,_=find_midpoint(numbers[int(lgth/2):])\n",
    "else:\n",
    "    q3,_=find_midpoint(numbers[int(lgth/2)+1:])\n",
    "print(str(q1)+'\\n'+str(q2)+'\\n'+str(q3)+'\\n')"
   ]
  },
  {
   "cell_type": "code",
   "execution_count": null,
   "metadata": {
    "collapsed": true
   },
   "outputs": [],
   "source": []
  },
  {
   "cell_type": "code",
   "execution_count": null,
   "metadata": {
    "collapsed": true
   },
   "outputs": [],
   "source": []
  },
  {
   "cell_type": "code",
   "execution_count": null,
   "metadata": {
    "collapsed": true
   },
   "outputs": [],
   "source": []
  },
  {
   "cell_type": "code",
   "execution_count": null,
   "metadata": {
    "collapsed": true
   },
   "outputs": [],
   "source": []
  }
 ],
 "metadata": {
  "kernelspec": {
   "display_name": "Python 3",
   "language": "python",
   "name": "python3"
  },
  "language_info": {
   "codemirror_mode": {
    "name": "ipython",
    "version": 3
   },
   "file_extension": ".py",
   "mimetype": "text/x-python",
   "name": "python",
   "nbconvert_exporter": "python",
   "pygments_lexer": "ipython3",
   "version": "3.6.3"
  }
 },
 "nbformat": 4,
 "nbformat_minor": 2
}
